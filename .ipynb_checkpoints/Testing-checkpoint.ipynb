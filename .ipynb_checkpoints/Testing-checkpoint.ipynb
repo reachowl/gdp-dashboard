{
  "cells": [
    {
      "cell_type": "code",
      "execution_count": null,
      "id": "42d9d9c8-df1a-4b41-afdb-db3cd029bd30",
      "metadata": {
        "id": "42d9d9c8-df1a-4b41-afdb-db3cd029bd30",
        "scrolled": true
      },
      "outputs": [],
      "source": [
        "x = 100\n",
        "y = 200\n",
        "\n",
        "if x > y:\n",
        "    print('x is greater than y')\n",
        "\n",
        "else:\n",
        "    print('x is not greater than y')"
      ]
    },
    {
      "cell_type": "markdown",
      "id": "XTi24gaeXM2l",
      "metadata": {
        "id": "XTi24gaeXM2l"
      },
      "source": []
    },
    {
      "cell_type": "code",
      "execution_count": null,
      "id": "rmlAkBqIXOMI",
      "metadata": {
        "id": "rmlAkBqIXOMI"
      },
      "outputs": [],
      "source": [
        "import pandas as pd\n",
        "import numpy as np\n",
        "\n"
      ]
    },
    {
      "cell_type": "code",
      "execution_count": null,
      "id": "jJ69hkcgXXk8",
      "metadata": {
        "colab": {
          "base_uri": "https://localhost:8080/",
          "height": 356
        },
        "id": "jJ69hkcgXXk8",
        "outputId": "8bd5e239-75cc-4913-98f6-9cc105f12d85"
      },
      "outputs": [
        {
          "ename": "FileNotFoundError",
          "evalue": "[Errno 2] No such file or directory: 'titanic.csv'",
          "output_type": "error",
          "traceback": [
            "\u001b[0;31m---------------------------------------------------------------------------\u001b[0m",
            "\u001b[0;31mFileNotFoundError\u001b[0m                         Traceback (most recent call last)",
            "\u001b[0;32m<ipython-input-8-6dafbb00656c>\u001b[0m in \u001b[0;36m<cell line: 5>\u001b[0;34m()\u001b[0m\n\u001b[1;32m      3\u001b[0m \u001b[0;31m# Create a sample DataFrame\u001b[0m\u001b[0;34m\u001b[0m\u001b[0;34m\u001b[0m\u001b[0m\n\u001b[1;32m      4\u001b[0m \u001b[0mdata\u001b[0m \u001b[0;34m=\u001b[0m \u001b[0;34m{\u001b[0m\u001b[0;34m'col1'\u001b[0m\u001b[0;34m:\u001b[0m \u001b[0;34m[\u001b[0m\u001b[0;36m1\u001b[0m\u001b[0;34m,\u001b[0m \u001b[0;36m2\u001b[0m\u001b[0;34m]\u001b[0m\u001b[0;34m,\u001b[0m \u001b[0;34m'col2'\u001b[0m\u001b[0;34m:\u001b[0m \u001b[0;34m[\u001b[0m\u001b[0;36m3\u001b[0m\u001b[0;34m,\u001b[0m \u001b[0;36m4\u001b[0m\u001b[0;34m]\u001b[0m\u001b[0;34m}\u001b[0m\u001b[0;34m\u001b[0m\u001b[0;34m\u001b[0m\u001b[0m\n\u001b[0;32m----> 5\u001b[0;31m \u001b[0mdf\u001b[0m \u001b[0;34m=\u001b[0m \u001b[0mpd\u001b[0m\u001b[0;34m.\u001b[0m\u001b[0mread_csv\u001b[0m\u001b[0;34m(\u001b[0m\u001b[0;34m'titanic.csv'\u001b[0m\u001b[0;34m,\u001b[0m \u001b[0msep\u001b[0m \u001b[0;34m=\u001b[0m \u001b[0;34m','\u001b[0m\u001b[0;34m)\u001b[0m\u001b[0;34m\u001b[0m\u001b[0;34m\u001b[0m\u001b[0m\n\u001b[0m\u001b[1;32m      6\u001b[0m \u001b[0mdf\u001b[0m\u001b[0;34m.\u001b[0m\u001b[0mhead\u001b[0m\u001b[0;34m(\u001b[0m\u001b[0;34m)\u001b[0m\u001b[0;34m\u001b[0m\u001b[0;34m\u001b[0m\u001b[0m\n",
            "\u001b[0;32m/usr/local/lib/python3.10/dist-packages/pandas/io/parsers/readers.py\u001b[0m in \u001b[0;36mread_csv\u001b[0;34m(filepath_or_buffer, sep, delimiter, header, names, index_col, usecols, dtype, engine, converters, true_values, false_values, skipinitialspace, skiprows, skipfooter, nrows, na_values, keep_default_na, na_filter, verbose, skip_blank_lines, parse_dates, infer_datetime_format, keep_date_col, date_parser, date_format, dayfirst, cache_dates, iterator, chunksize, compression, thousands, decimal, lineterminator, quotechar, quoting, doublequote, escapechar, comment, encoding, encoding_errors, dialect, on_bad_lines, delim_whitespace, low_memory, memory_map, float_precision, storage_options, dtype_backend)\u001b[0m\n\u001b[1;32m    946\u001b[0m     \u001b[0mkwds\u001b[0m\u001b[0;34m.\u001b[0m\u001b[0mupdate\u001b[0m\u001b[0;34m(\u001b[0m\u001b[0mkwds_defaults\u001b[0m\u001b[0;34m)\u001b[0m\u001b[0;34m\u001b[0m\u001b[0;34m\u001b[0m\u001b[0m\n\u001b[1;32m    947\u001b[0m \u001b[0;34m\u001b[0m\u001b[0m\n\u001b[0;32m--> 948\u001b[0;31m     \u001b[0;32mreturn\u001b[0m \u001b[0m_read\u001b[0m\u001b[0;34m(\u001b[0m\u001b[0mfilepath_or_buffer\u001b[0m\u001b[0;34m,\u001b[0m \u001b[0mkwds\u001b[0m\u001b[0;34m)\u001b[0m\u001b[0;34m\u001b[0m\u001b[0;34m\u001b[0m\u001b[0m\n\u001b[0m\u001b[1;32m    949\u001b[0m \u001b[0;34m\u001b[0m\u001b[0m\n\u001b[1;32m    950\u001b[0m \u001b[0;34m\u001b[0m\u001b[0m\n",
            "\u001b[0;32m/usr/local/lib/python3.10/dist-packages/pandas/io/parsers/readers.py\u001b[0m in \u001b[0;36m_read\u001b[0;34m(filepath_or_buffer, kwds)\u001b[0m\n\u001b[1;32m    609\u001b[0m \u001b[0;34m\u001b[0m\u001b[0m\n\u001b[1;32m    610\u001b[0m     \u001b[0;31m# Create the parser.\u001b[0m\u001b[0;34m\u001b[0m\u001b[0;34m\u001b[0m\u001b[0m\n\u001b[0;32m--> 611\u001b[0;31m     \u001b[0mparser\u001b[0m \u001b[0;34m=\u001b[0m \u001b[0mTextFileReader\u001b[0m\u001b[0;34m(\u001b[0m\u001b[0mfilepath_or_buffer\u001b[0m\u001b[0;34m,\u001b[0m \u001b[0;34m**\u001b[0m\u001b[0mkwds\u001b[0m\u001b[0;34m)\u001b[0m\u001b[0;34m\u001b[0m\u001b[0;34m\u001b[0m\u001b[0m\n\u001b[0m\u001b[1;32m    612\u001b[0m \u001b[0;34m\u001b[0m\u001b[0m\n\u001b[1;32m    613\u001b[0m     \u001b[0;32mif\u001b[0m \u001b[0mchunksize\u001b[0m \u001b[0;32mor\u001b[0m \u001b[0miterator\u001b[0m\u001b[0;34m:\u001b[0m\u001b[0;34m\u001b[0m\u001b[0;34m\u001b[0m\u001b[0m\n",
            "\u001b[0;32m/usr/local/lib/python3.10/dist-packages/pandas/io/parsers/readers.py\u001b[0m in \u001b[0;36m__init__\u001b[0;34m(self, f, engine, **kwds)\u001b[0m\n\u001b[1;32m   1446\u001b[0m \u001b[0;34m\u001b[0m\u001b[0m\n\u001b[1;32m   1447\u001b[0m         \u001b[0mself\u001b[0m\u001b[0;34m.\u001b[0m\u001b[0mhandles\u001b[0m\u001b[0;34m:\u001b[0m \u001b[0mIOHandles\u001b[0m \u001b[0;34m|\u001b[0m \u001b[0;32mNone\u001b[0m \u001b[0;34m=\u001b[0m \u001b[0;32mNone\u001b[0m\u001b[0;34m\u001b[0m\u001b[0;34m\u001b[0m\u001b[0m\n\u001b[0;32m-> 1448\u001b[0;31m         \u001b[0mself\u001b[0m\u001b[0;34m.\u001b[0m\u001b[0m_engine\u001b[0m \u001b[0;34m=\u001b[0m \u001b[0mself\u001b[0m\u001b[0;34m.\u001b[0m\u001b[0m_make_engine\u001b[0m\u001b[0;34m(\u001b[0m\u001b[0mf\u001b[0m\u001b[0;34m,\u001b[0m \u001b[0mself\u001b[0m\u001b[0;34m.\u001b[0m\u001b[0mengine\u001b[0m\u001b[0;34m)\u001b[0m\u001b[0;34m\u001b[0m\u001b[0;34m\u001b[0m\u001b[0m\n\u001b[0m\u001b[1;32m   1449\u001b[0m \u001b[0;34m\u001b[0m\u001b[0m\n\u001b[1;32m   1450\u001b[0m     \u001b[0;32mdef\u001b[0m \u001b[0mclose\u001b[0m\u001b[0;34m(\u001b[0m\u001b[0mself\u001b[0m\u001b[0;34m)\u001b[0m \u001b[0;34m->\u001b[0m \u001b[0;32mNone\u001b[0m\u001b[0;34m:\u001b[0m\u001b[0;34m\u001b[0m\u001b[0;34m\u001b[0m\u001b[0m\n",
            "\u001b[0;32m/usr/local/lib/python3.10/dist-packages/pandas/io/parsers/readers.py\u001b[0m in \u001b[0;36m_make_engine\u001b[0;34m(self, f, engine)\u001b[0m\n\u001b[1;32m   1703\u001b[0m                 \u001b[0;32mif\u001b[0m \u001b[0;34m\"b\"\u001b[0m \u001b[0;32mnot\u001b[0m \u001b[0;32min\u001b[0m \u001b[0mmode\u001b[0m\u001b[0;34m:\u001b[0m\u001b[0;34m\u001b[0m\u001b[0;34m\u001b[0m\u001b[0m\n\u001b[1;32m   1704\u001b[0m                     \u001b[0mmode\u001b[0m \u001b[0;34m+=\u001b[0m \u001b[0;34m\"b\"\u001b[0m\u001b[0;34m\u001b[0m\u001b[0;34m\u001b[0m\u001b[0m\n\u001b[0;32m-> 1705\u001b[0;31m             self.handles = get_handle(\n\u001b[0m\u001b[1;32m   1706\u001b[0m                 \u001b[0mf\u001b[0m\u001b[0;34m,\u001b[0m\u001b[0;34m\u001b[0m\u001b[0;34m\u001b[0m\u001b[0m\n\u001b[1;32m   1707\u001b[0m                 \u001b[0mmode\u001b[0m\u001b[0;34m,\u001b[0m\u001b[0;34m\u001b[0m\u001b[0;34m\u001b[0m\u001b[0m\n",
            "\u001b[0;32m/usr/local/lib/python3.10/dist-packages/pandas/io/common.py\u001b[0m in \u001b[0;36mget_handle\u001b[0;34m(path_or_buf, mode, encoding, compression, memory_map, is_text, errors, storage_options)\u001b[0m\n\u001b[1;32m    861\u001b[0m         \u001b[0;32mif\u001b[0m \u001b[0mioargs\u001b[0m\u001b[0;34m.\u001b[0m\u001b[0mencoding\u001b[0m \u001b[0;32mand\u001b[0m \u001b[0;34m\"b\"\u001b[0m \u001b[0;32mnot\u001b[0m \u001b[0;32min\u001b[0m \u001b[0mioargs\u001b[0m\u001b[0;34m.\u001b[0m\u001b[0mmode\u001b[0m\u001b[0;34m:\u001b[0m\u001b[0;34m\u001b[0m\u001b[0;34m\u001b[0m\u001b[0m\n\u001b[1;32m    862\u001b[0m             \u001b[0;31m# Encoding\u001b[0m\u001b[0;34m\u001b[0m\u001b[0;34m\u001b[0m\u001b[0m\n\u001b[0;32m--> 863\u001b[0;31m             handle = open(\n\u001b[0m\u001b[1;32m    864\u001b[0m                 \u001b[0mhandle\u001b[0m\u001b[0;34m,\u001b[0m\u001b[0;34m\u001b[0m\u001b[0;34m\u001b[0m\u001b[0m\n\u001b[1;32m    865\u001b[0m                 \u001b[0mioargs\u001b[0m\u001b[0;34m.\u001b[0m\u001b[0mmode\u001b[0m\u001b[0;34m,\u001b[0m\u001b[0;34m\u001b[0m\u001b[0;34m\u001b[0m\u001b[0m\n",
            "\u001b[0;31mFileNotFoundError\u001b[0m: [Errno 2] No such file or directory: 'titanic.csv'"
          ]
        }
      ],
      "source": [
        "import pandas as pd # imports the pandas library\n",
        "\n",
        "# Create a sample DataFrame\n",
        "data = {'col1': [1, 2], 'col2': [3, 4]}\n",
        "df = pd.read_csv('titanic.csv', sep = ',')\n",
        "df.head()\n"
      ]
    },
    {
      "cell_type": "code",
      "execution_count": null,
      "id": "sf7VU13XXt4x",
      "metadata": {
        "colab": {
          "base_uri": "https://localhost:8080/",
          "height": 141
        },
        "id": "sf7VU13XXt4x",
        "outputId": "b04a2304-b741-4303-f33f-dcc7689a676e"
      },
      "outputs": [
        {
          "ename": "NameError",
          "evalue": "name 'df' is not defined",
          "output_type": "error",
          "traceback": [
            "\u001b[0;31m---------------------------------------------------------------------------\u001b[0m",
            "\u001b[0;31mNameError\u001b[0m                                 Traceback (most recent call last)",
            "\u001b[0;32m<ipython-input-4-c42a15b2c7cf>\u001b[0m in \u001b[0;36m<cell line: 1>\u001b[0;34m()\u001b[0m\n\u001b[0;32m----> 1\u001b[0;31m \u001b[0mdf\u001b[0m\u001b[0;34m.\u001b[0m\u001b[0mhead\u001b[0m\u001b[0;34m(\u001b[0m\u001b[0;34m)\u001b[0m\u001b[0;34m\u001b[0m\u001b[0;34m\u001b[0m\u001b[0m\n\u001b[0m",
            "\u001b[0;31mNameError\u001b[0m: name 'df' is not defined"
          ]
        }
      ],
      "source": []
    },
    {
      "cell_type": "code",
      "execution_count": null,
      "id": "gLLTxVj6_2gy",
      "metadata": {
        "id": "gLLTxVj6_2gy"
      },
      "outputs": [],
      "source": []
    },
    {
      "cell_type": "code",
      "execution_count": null,
      "id": "69b24106-cdb3-4a09-8696-021c6d8342ab",
      "metadata": {
        "colab": {
          "base_uri": "https://localhost:8080/"
        },
        "id": "69b24106-cdb3-4a09-8696-021c6d8342ab",
        "outputId": "3f90829b-6f5a-45cd-cd78-f6c67bb7bb2a"
      },
      "outputs": [
        {
          "name": "stdout",
          "output_type": "stream",
          "text": [
            "Babab love lace\n"
          ]
        }
      ],
      "source": [
        "# f-strings\n",
        "\n",
        "first_name = 'Babab'\n",
        "last_name = ' love lace'\n",
        "full_name = f'{first_name}{last_name}'\n",
        "print(full_name)\n",
        "\n",
        "\n",
        "\n"
      ]
    },
    {
      "cell_type": "code",
      "execution_count": null,
      "id": "cbfc2301-cf7e-489d-b89f-0e9609bfe438",
      "metadata": {
        "id": "cbfc2301-cf7e-489d-b89f-0e9609bfe438",
        "outputId": "6158167e-becc-4a96-f9e6-3a04785f2e88"
      },
      "outputs": [
        {
          "name": "stdout",
          "output_type": "stream",
          "text": [
            "X is greater than y\n"
          ]
        }
      ],
      "source": [
        "1x = 200\n",
        "y = 100\n",
        "\n",
        "if x > y:\n",
        "    print('X is greater than y')\n",
        "\n",
        "else:\n",
        "    print('X not greater than y')\n",
        "\n"
      ]
    },
    {
      "cell_type": "code",
      "execution_count": null,
      "id": "2526be62-4a94-4974-90d2-82074c14f715",
      "metadata": {
        "id": "2526be62-4a94-4974-90d2-82074c14f715"
      },
      "outputs": [],
      "source": [
        "i = 1\n",
        "\n",
        "while i < 6:\n",
        "    print(i)\n",
        "    i += 1\n",
        "\n",
        "\n",
        "\n",
        "\n",
        "\n",
        "\n"
      ]
    },
    {
      "cell_type": "markdown",
      "id": "qwdOPg80_9B9",
      "metadata": {
        "id": "qwdOPg80_9B9"
      },
      "source": [
        "**Papa**\n"
      ]
    },
    {
      "cell_type": "code",
      "execution_count": null,
      "id": "s9alHKIXAHoK",
      "metadata": {
        "id": "s9alHKIXAHoK"
      },
      "outputs": [],
      "source": [
        "# prompt: Import math\n",
        "\n",
        "import math\n",
        "import random"
      ]
    },
    {
      "cell_type": "markdown",
      "id": "tSFvqLtOtEuX",
      "metadata": {
        "id": "tSFvqLtOtEuX"
      },
      "source": []
    },
    {
      "cell_type": "code",
      "execution_count": null,
      "id": "UY9D3PjZtU6C",
      "metadata": {
        "colab": {
          "background_save": true,
          "base_uri": "https://localhost:8080/"
        },
        "id": "UY9D3PjZtU6C",
        "outputId": "1dc61f02-bda0-410c-9a82-d580da58b746"
      },
      "outputs": [
        {
          "name": "stdout",
          "output_type": "stream",
          "text": [
            "Welcome to the 4-digit Lottery Guessing Game!\n",
            "Try to guess the 4-digit lottery number!\n",
            "Wrong guess! Try again.\n",
            "Wrong guess! Try again.\n",
            "Wrong guess! Try again.\n"
          ]
        }
      ],
      "source": [
        "\n",
        "import random\n",
        "\n",
        "def lottery_guess():\n",
        "    # Generate a random 4-digit lottery number\n",
        "    lottery_number = random.randint(1000, 9999)\n",
        "\n",
        "    print(\"Welcome to the 4-digit Lottery Guessing Game!\")\n",
        "    print(\"Try to guess the 4-digit lottery number!\")\n",
        "\n",
        "    attempts = 0\n",
        "\n",
        "    while True:\n",
        "        # User inputs their guess\n",
        "        guess = input(\"Enter your 4-digit guess: \")\n",
        "\n",
        "        # Validate if the input is a 4-digit number\n",
        "        if len(guess) != 4 or not guess.isdigit():\n",
        "            print(\"Please enter a valid 4-digit number.\")\n",
        "            continue\n",
        "\n",
        "        attempts += 1\n",
        "        guess = int(guess)\n",
        "\n",
        "        # Check if the guess is correct\n",
        "        if guess == lottery_number:\n",
        "            print(f\"Congratulations! You guessed the correct lottery number {lottery_number} in {attempts} attempts.\")\n",
        "            break\n",
        "        else:\n",
        "            print(f\"Wrong guess! Try again.\")\n",
        "\n",
        "# Start the lottery guess game\n",
        "lottery_guess()"
      ]
    },
    {
      "cell_type": "code",
      "execution_count": null,
      "id": "rvksfZnUtkFs",
      "metadata": {
        "id": "rvksfZnUtkFs"
      },
      "outputs": [],
      "source": [
        "\n",
        "import random\n",
        "\n",
        "def generate_lottery_number():\n",
        "    # Generate a random 4-digit number\n",
        "    lottery_number = random.randint(1000, 9999)\n",
        "    return lottery_number\n",
        "\n",
        "# Generate and print the lottery number\n",
        "lottery_number = generate_lottery_number()\n",
        "print(f\"Your generated 4-digit lottery number is: {lottery_number}\")"
      ]
    },
    {
      "cell_type": "code",
      "execution_count": null,
      "id": "IRGTdyB2uQW3",
      "metadata": {
        "id": "IRGTdyB2uQW3"
      },
      "outputs": [],
      "source": [
        "\n",
        "import pandas as pd\n",
        "from collections import Counter\n",
        "\n",
        "# Load the data from a CSV file (you'll need to provide the CSV file)\n",
        "data = pd.read_csv('singapore_4d_results.csv')\n",
        "\n",
        "# Example structure: Date, Winning Number 1, Winning Number 2, Winning Number 3\n",
        "# Make sure your CSV is in a proper format for this script to work\n",
        "\n",
        "# Combine all winning numbers into a single list\n",
        "all_numbers = data[['Winning Number 1', 'Winning Number 2', 'Winning Number 3']].values.flatten()\n",
        "\n",
        "# Convert to a list of strings to handle individual digits\n",
        "all_numbers_str = [str(num) for num in all_numbers]\n",
        "\n",
        "# Frequency analysis: Count how often each number appears\n",
        "number_frequency = Counter(all_numbers_str)\n",
        "\n",
        "# Show the most common numbers\n",
        "print(\"Most common 4D numbers:\")\n",
        "print(number_frequency.most_common(10))\n",
        "\n",
        "# Digit analysis: Count individual digits (0-9) in each position\n",
        "def count_digits_in_position(numbers, position):\n",
        "    digit_counts = Counter()\n",
        "    for num in numbers:\n",
        "        if len(num) == 4:\n",
        "            digit_counts[num[position]] += 1\n",
        "    return digit_counts\n",
        "\n",
        "thousands = count_digits_in_position(all_numbers_str, 0)\n",
        "hundreds = count_digits_in_position(all_numbers_str, 1)\n",
        "tens = count_digits_in_position(all_numbers_str, 2)\n",
        "units = count_digits_in_position(all_numbers_str, 3)\n",
        "\n",
        "print(\"\\nFrequency of digits in each position:\")\n",
        "print(f\"Thousands place: {thousands}\")\n",
        "print(f\"Hundreds place: {hundreds}\")\n",
        "print(f\"Tens place: {tens}\")\n",
        "print(f\"Units place: {units}\")\n",
        "\n",
        "# Hot and Cold numbers\n",
        "most_common = number_frequency.most_common(5)\n",
        "least_common = number_frequency.most_common()[:-6:-1]\n",
        "\n",
        "print(\"\\nHot numbers (most common):\", most_common)\n",
        "print(\"Cold numbers (least common):\", least_common)"
      ]
    },
    {
      "cell_type": "code",
      "source": [
        "grades = ['A', 'B', 'C', 'D', 'E', 'F']\n",
        "\n",
        "students_count = [20,30,10,5,8,2]\n",
        "\n",
        "import matplotlib.pyplot as plt\n",
        "\n",
        "plt.title('Student grade bar chart')\n",
        "plt.xlabel('Grades')\n",
        "plt.ylabel('Number of students')\n",
        "plt.bar(grades, students_count, color\n",
        " = ['green', 'gray', 'blue', 'orange', 'pink', 'red'])\n",
        "\n",
        "plt.show()"
      ],
      "metadata": {
        "colab": {
          "base_uri": "https://localhost:8080/",
          "height": 273
        },
        "id": "sq-tE2q6Lf0x",
        "outputId": "2468c9e0-fd0e-4d6a-853a-877de3605ec1"
      },
      "id": "sq-tE2q6Lf0x",
      "execution_count": null,
      "outputs": [
        {
          "output_type": "execute_result",
          "data": {
            "text/plain": [
              "<BarContainer object of 6 artists>"
            ]
          },
          "metadata": {},
          "execution_count": 4
        },
        {
          "output_type": "display_data",
          "data": {
            "text/plain": [
              "<Figure size 640x480 with 1 Axes>"
            ],
            "image/png": "[encoded data removed]"
          },
          "metadata": {}
        }
      ]
    }
  ],
  "metadata": {
    "colab": {
      "provenance": []
    },
    "kernelspec": {
      "display_name": "Python 3 (ipykernel)",
      "language": "python",
      "name": "python3"
    },
    "language_info": {
      "codemirror_mode": {
        "name": "ipython",
        "version": 3
      },
      "file_extension": ".py",
      "mimetype": "text/x-python",
      "name": "python",
      "nbconvert_exporter": "python",
      "pygments_lexer": "ipython3",
      "version": "3.11.4"
    }
  },
  "nbformat": 4,
  "nbformat_minor": 5
}